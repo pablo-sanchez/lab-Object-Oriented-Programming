{
 "cells": [
  {
   "cell_type": "markdown",
   "id": "7489d4e8",
   "metadata": {},
   "source": [
    "# Implementing a Python class for a TV"
   ]
  },
  {
   "cell_type": "code",
   "execution_count": 1,
   "id": "a65a57a6",
   "metadata": {},
   "outputs": [],
   "source": [
    "class TV():\n",
    "    \n",
    "    def __init__(self, on=False, volume=10, active_channel=1, inp='Anthena', size=42):\n",
    "        valid_volume = list(range(1,101))\n",
    "        valid_channels = list(range(1,11))\n",
    "        if on == True:\n",
    "            self.on = on\n",
    "        elif on == False:\n",
    "            self.on = on   \n",
    "        else:\n",
    "            print('Error: The value inputed must be boolean')\n",
    "            print()\n",
    "        \n",
    "        \n",
    "        if volume in valid_volume:\n",
    "            self.volume = volume\n",
    "        else:\n",
    "            print('Error: The value inputed must be a number between [0,100]')\n",
    "            print()    \n",
    "        \n",
    "        \n",
    "        if active_channel in valid_channels:\n",
    "            self.active_channel = active_channel\n",
    "        else: \n",
    "            print('Error: The value inputed must be a number between [0,10]')\n",
    "            print() \n",
    "\n",
    "            \n",
    "        if inp in [\"Anthena\", \"HDMI1\", \"HDMI2\", \"HDMI3\"]:\n",
    "            self.inp = inp\n",
    "        else:\n",
    "            print('Error: The value inputed must be one of the following strings: Anthena, HDMI1, HDMI2 or HDMI3')\n",
    "            print() \n",
    "\n",
    "            \n",
    "        if size in [42, 50, 55, 65, 75]:\n",
    "            self.size = size\n",
    "        else:\n",
    "            print('Error: The value inputed must be one of the following numbers: 42, 50, 55, 65, 75')\n",
    "            print() \n",
    "        \n",
    "        \n",
    "    def switch_on(self):\n",
    "        on = True\n",
    "        self.on = on\n",
    "        \n",
    "    def switch_off(self):\n",
    "        on = False\n",
    "        self.on = on\n",
    "        \n",
    "    def set_volume(self, vol):\n",
    "        valid_volume = list(range(1,101))\n",
    "        if vol in valid_volume:\n",
    "            self.volume = vol\n",
    "        else:\n",
    "            print('Error: The input value is not an integer between 0 and 100')\n",
    "            print()\n",
    "        \n",
    "    def change_channel(self, channel):\n",
    "        valid_channels = list(range(1,11))\n",
    "        if channel in valid_channels:\n",
    "            self.active_channel = channel\n",
    "        else: \n",
    "            print('Error: The input value is not an integer between 0 and 10')\n",
    "            print()\n",
    "        \n",
    "    def set_input(self, i):\n",
    "        if i in [\"Anthena\", \"HDMI1\", \"HDMI2\", \"HDMI3\"]:\n",
    "            self.inp = i\n",
    "        else:\n",
    "            print('Error: The value inputed must be one of the following strings: Anthena, HDMI1, HDMI2 or HDMI3')\n",
    "            print()"
   ]
  },
  {
   "cell_type": "markdown",
   "id": "370efa29",
   "metadata": {},
   "source": [
    "**Testing with the default values:**"
   ]
  },
  {
   "cell_type": "code",
   "execution_count": 2,
   "id": "415f666e",
   "metadata": {},
   "outputs": [
    {
     "data": {
      "text/plain": [
       "{'on': False, 'volume': 10, 'active_channel': 1, 'inp': 'Anthena', 'size': 42}"
      ]
     },
     "execution_count": 2,
     "metadata": {},
     "output_type": "execute_result"
    }
   ],
   "source": [
    "tv1 = TV()\n",
    "tv1.__dict__"
   ]
  },
  {
   "cell_type": "markdown",
   "id": "23e8e025",
   "metadata": {},
   "source": [
    "**Turn on the TV:**"
   ]
  },
  {
   "cell_type": "code",
   "execution_count": 3,
   "id": "10cc3686",
   "metadata": {},
   "outputs": [
    {
     "data": {
      "text/plain": [
       "{'on': True, 'volume': 10, 'active_channel': 1, 'inp': 'Anthena', 'size': 42}"
      ]
     },
     "execution_count": 3,
     "metadata": {},
     "output_type": "execute_result"
    }
   ],
   "source": [
    "tv1.switch_on()\n",
    "tv1.__dict__"
   ]
  },
  {
   "cell_type": "markdown",
   "id": "5416150e",
   "metadata": {},
   "source": [
    "**Setting a different volume:**"
   ]
  },
  {
   "cell_type": "code",
   "execution_count": 4,
   "id": "b928f8b0",
   "metadata": {},
   "outputs": [
    {
     "data": {
      "text/plain": [
       "{'on': True, 'volume': 5, 'active_channel': 1, 'inp': 'Anthena', 'size': 42}"
      ]
     },
     "execution_count": 4,
     "metadata": {},
     "output_type": "execute_result"
    }
   ],
   "source": [
    "tv1.set_volume(5)\n",
    "tv1.__dict__"
   ]
  },
  {
   "cell_type": "markdown",
   "id": "8da0ed37",
   "metadata": {},
   "source": [
    "**Turn off the TV:**"
   ]
  },
  {
   "cell_type": "code",
   "execution_count": 5,
   "id": "26ab2ca9",
   "metadata": {},
   "outputs": [
    {
     "data": {
      "text/plain": [
       "{'on': False, 'volume': 5, 'active_channel': 1, 'inp': 'Anthena', 'size': 42}"
      ]
     },
     "execution_count": 5,
     "metadata": {},
     "output_type": "execute_result"
    }
   ],
   "source": [
    "tv1.switch_off()\n",
    "tv1.__dict__"
   ]
  },
  {
   "cell_type": "markdown",
   "id": "adf755f9",
   "metadata": {},
   "source": [
    "**Creating a TV with different arguments than default:**"
   ]
  },
  {
   "cell_type": "code",
   "execution_count": 6,
   "id": "35aa0d89",
   "metadata": {},
   "outputs": [
    {
     "data": {
      "text/plain": [
       "{'on': True, 'volume': 33, 'active_channel': 1, 'inp': 'Anthena', 'size': 55}"
      ]
     },
     "execution_count": 6,
     "metadata": {},
     "output_type": "execute_result"
    }
   ],
   "source": [
    "tv2 = TV(on=True, volume=33, size=55)\n",
    "tv2.__dict__"
   ]
  },
  {
   "cell_type": "markdown",
   "id": "6d75e41e",
   "metadata": {},
   "source": [
    "**Changing the channel:**"
   ]
  },
  {
   "cell_type": "code",
   "execution_count": 7,
   "id": "a25382f6",
   "metadata": {},
   "outputs": [
    {
     "data": {
      "text/plain": [
       "{'on': True, 'volume': 33, 'active_channel': 8, 'inp': 'Anthena', 'size': 55}"
      ]
     },
     "execution_count": 7,
     "metadata": {},
     "output_type": "execute_result"
    }
   ],
   "source": [
    "tv2.change_channel(8)\n",
    "tv2.__dict__"
   ]
  },
  {
   "cell_type": "markdown",
   "id": "82fcdbe2",
   "metadata": {},
   "source": [
    "**Setting a wrong input and after a correct one**"
   ]
  },
  {
   "cell_type": "code",
   "execution_count": 8,
   "id": "814c1d01",
   "metadata": {},
   "outputs": [
    {
     "name": "stdout",
     "output_type": "stream",
     "text": [
      "Error: The value inputed must be one of the following strings: Anthena, HDMI1, HDMI2 or HDMI3\n",
      "\n",
      "{'on': True, 'volume': 33, 'active_channel': 8, 'inp': 'Anthena', 'size': 55}\n"
     ]
    },
    {
     "data": {
      "text/plain": [
       "{'on': True, 'volume': 33, 'active_channel': 8, 'inp': 'HDMI1', 'size': 55}"
      ]
     },
     "execution_count": 8,
     "metadata": {},
     "output_type": "execute_result"
    }
   ],
   "source": [
    "tv2.set_input('HDMI4')\n",
    "print(tv2.__dict__)\n",
    "tv2.set_input('HDMI1')\n",
    "tv2.__dict__"
   ]
  }
 ],
 "metadata": {
  "kernelspec": {
   "display_name": "Python 3 (ipykernel)",
   "language": "python",
   "name": "python3"
  },
  "language_info": {
   "codemirror_mode": {
    "name": "ipython",
    "version": 3
   },
   "file_extension": ".py",
   "mimetype": "text/x-python",
   "name": "python",
   "nbconvert_exporter": "python",
   "pygments_lexer": "ipython3",
   "version": "3.9.13"
  }
 },
 "nbformat": 4,
 "nbformat_minor": 5
}
